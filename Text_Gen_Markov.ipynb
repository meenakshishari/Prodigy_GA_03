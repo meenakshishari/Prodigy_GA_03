{
  "cells": [
    {
      "cell_type": "code",
      "source": [
        "# Download Pride and Prejudice and cut off header.\n",
        "!curl https://www.gutenberg.org/files/1342/1342-0.txt | tail -n+32 > /content/pride-and-prejudice.txt\n",
        "\n",
        "# Preview file.\n",
        "!head -n 10 /content/pride-and-prejudice.txt"
      ],
      "metadata": {
        "colab": {
          "base_uri": "https://localhost:8080/"
        },
        "id": "2TWQUm9N5Thb",
        "outputId": "fcc46177-1ebb-46ba-9523-abd35c5fde86"
      },
      "execution_count": 2,
      "outputs": [
        {
          "output_type": "stream",
          "name": "stdout",
          "text": [
            "  % Total    % Received % Xferd  Average Speed   Time    Time     Time  Current\n",
            "                                 Dload  Upload   Total   Spent    Left  Speed\n",
            "100  734k  100  734k    0     0  1807k      0 --:--:-- --:--:-- --:--:-- 1810k\n",
            "                           with a Preface by\n",
            "                           George Saintsbury\n",
            "                                  and\n",
            "                           Illustrations by\n",
            "                             Hugh Thomson\n",
            "\n",
            "                         [Illustration: 1894]\n",
            "\n",
            "                       Ruskin       156. Charing\n",
            "                       House.        Cross Road.\n"
          ]
        }
      ]
    },
    {
      "cell_type": "code",
      "source": [
        "import collections\n",
        "import random\n",
        "import re\n",
        "\n",
        "import numpy as np"
      ],
      "metadata": {
        "id": "6b56Njcx5v2b"
      },
      "execution_count": 3,
      "outputs": []
    },
    {
      "cell_type": "code",
      "source": [
        "# Read text from file and tokenize.\n",
        "path = '/content/pride-and-prejudice.txt'\n",
        "with open(path) as f:\n",
        "  text = f.read()\n",
        "tokenized_text = [\n",
        "    word\n",
        "    for word in re.split('\\W+', text)\n",
        "    if word != ''\n",
        "]\n",
        "\n",
        "# Create graph.\n",
        "markov_graph = collections.defaultdict(lambda: collections.Counter())\n",
        "\n",
        "last_word = tokenized_text[0].lower()\n",
        "for word in tokenized_text[1:]:\n",
        "  word = word.lower()\n",
        "  markov_graph[last_word].update([word])\n",
        "  last_word = word\n",
        "\n",
        "# Preview graph.\n",
        "limit = 3\n",
        "for first_word in ('the', 'by', 'who'):\n",
        "  next_words = list(markov_graph[first_word].keys())[:limit]\n",
        "  for next_word in next_words:\n",
        "    print(first_word, next_word)"
      ],
      "metadata": {
        "colab": {
          "base_uri": "https://localhost:8080/"
        },
        "id": "kvZVLP-v5v4o",
        "outputId": "112eee72-33c0-45c6-f1ac-a7c276ba6b4e"
      },
      "execution_count": 8,
      "outputs": [
        {
          "output_type": "stream",
          "name": "stdout",
          "text": [
            "the case\n",
            "the not\n",
            "the objects\n",
            "by george\n",
            "by hugh\n",
            "by allowance\n",
            "who are\n",
            "who exalt\n",
            "who may\n"
          ]
        }
      ]
    },
    {
      "cell_type": "code",
      "source": [
        "def walk_graph(graph, distance=5, start_node=None):\n",
        "  \"\"\"Returns a list of words from a randomly weighted walk.\"\"\"\n",
        "  if distance <= 0:\n",
        "    return []\n",
        "\n",
        "  # If not given, pick a start node at random.\n",
        "  if not start_node:\n",
        "    start_node = random.choice(list(graph.keys()))\n",
        "\n",
        "\n",
        "  weights = np.array(\n",
        "      list(markov_graph[start_node].values()),\n",
        "      dtype=np.float64)\n",
        "  # Normalize word counts to sum to 1.\n",
        "  weights /= weights.sum()\n",
        "\n",
        "  # Pick a destination using weighted distribution.\n",
        "  choices = list(markov_graph[start_node].keys())\n",
        "  chosen_word = np.random.choice(choices, None, p=weights)\n",
        "\n",
        "  return [chosen_word] + walk_graph(\n",
        "      graph, distance=distance-1,\n",
        "      start_node=chosen_word)\n",
        "\n",
        "for i in range(10):\n",
        "  print(' '.join(walk_graph(\n",
        "      markov_graph, distance=12)), '\\n')"
      ],
      "metadata": {
        "colab": {
          "base_uri": "https://localhost:8080/"
        },
        "id": "-8hlD2OU5v9C",
        "outputId": "01bb2989-4753-431e-9120-2abdcb6ab696"
      },
      "execution_count": 9,
      "outputs": [
        {
          "output_type": "stream",
          "name": "stdout",
          "text": [
            "to elizabeth saw that a studier of your head than she suddenly \n",
            "\n",
            "with the loss of making every day or three miles round to \n",
            "\n",
            "not tints to her eyes were calling for him after field and \n",
            "\n",
            "and it affect his attentions to her and characteristic i have a \n",
            "\n",
            "employment for two since her brother s name will be as i \n",
            "\n",
            "and such different tables cover screens and aunt leaving her own mr \n",
            "\n",
            "mortified by the morrow with accuracy relate and were off any degree \n",
            "\n",
            "but of importance in the feelings on what mr darcy speaking to \n",
            "\n",
            "william s expression of him any of good may perhaps he had \n",
            "\n",
            "so at last i could easily believe you as a place in \n",
            "\n"
          ]
        }
      ]
    },
    {
      "cell_type": "code",
      "source": [],
      "metadata": {
        "id": "lMSQG2vf5v_Y"
      },
      "execution_count": null,
      "outputs": []
    },
    {
      "cell_type": "code",
      "source": [],
      "metadata": {
        "id": "koStc1mv5wC2"
      },
      "execution_count": null,
      "outputs": []
    }
  ],
  "metadata": {
    "colab": {
      "provenance": []
    },
    "kernelspec": {
      "display_name": "Python 3",
      "name": "python3"
    },
    "language_info": {
      "name": "python"
    }
  },
  "nbformat": 4,
  "nbformat_minor": 0
}